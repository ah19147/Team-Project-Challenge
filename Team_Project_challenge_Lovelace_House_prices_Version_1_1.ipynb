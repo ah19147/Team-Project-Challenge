{
  "nbformat": 4,
  "nbformat_minor": 0,
  "metadata": {
    "colab": {
      "name": "Team Project challenge - Lovelace - House prices Version 1.1",
      "provenance": [],
      "collapsed_sections": [],
      "include_colab_link": true
    },
    "kernelspec": {
      "name": "python3",
      "display_name": "Python 3"
    }
  },
  "cells": [
    {
      "cell_type": "markdown",
      "metadata": {
        "id": "view-in-github",
        "colab_type": "text"
      },
      "source": [
        "<a href=\"https://colab.research.google.com/github/ah19147/Team-Project-Challenge/blob/master/Team_Project_challenge_Lovelace_House_prices_Version_1_1.ipynb\" target=\"_parent\"><img src=\"https://colab.research.google.com/assets/colab-badge.svg\" alt=\"Open In Colab\"/></a>"
      ]
    },
    {
      "cell_type": "code",
      "metadata": {
        "id": "NZD6uCWEWlUd",
        "colab_type": "code",
        "outputId": "3c55f34e-7bbc-4bd7-e14a-dfbc63340eab",
        "colab": {
          "base_uri": "https://localhost:8080/",
          "height": 34
        }
      },
      "source": [
        "# Mount the drive\n",
        "from google.colab import drive\n",
        "drive.mount('/content/drive')"
      ],
      "execution_count": 0,
      "outputs": [
        {
          "output_type": "stream",
          "text": [
            "Drive already mounted at /content/drive; to attempt to forcibly remount, call drive.mount(\"/content/drive\", force_remount=True).\n"
          ],
          "name": "stdout"
        }
      ]
    },
    {
      "cell_type": "markdown",
      "metadata": {
        "id": "lskouqEA4zfD",
        "colab_type": "text"
      },
      "source": [
        "Note for people working on this:\n",
        "At the current moment, this model needs to be refined for implementation and testing.\n",
        "At this moment, that largely means removing more variables to see if that improves our score, albeit a potential change in model may be needed"
      ]
    },
    {
      "cell_type": "markdown",
      "metadata": {
        "id": "Zki9fntU9-N3",
        "colab_type": "text"
      },
      "source": [
        "NOTE:\n",
        " To anyone reading this, this notebook consists of 3 codes merged: \n",
        "\n",
        "*   Code from the machine-learning model tutorial here:\n",
        "https://www.kaggle.com/apapiu/regularized-linear-models/notebook\n",
        "*   Code from the Comprehensive data exploration tutorial here: https://www.kaggle.com/pmarcelino/comprehensive-data-exploration-with-python\n",
        "*   and my code (/our code, if anyone else adds to this.)\n",
        "\n",
        "I'll label which code portions are my doing, are taken from the comprehensive data exploration tutorial (CDE), and which are from the linear models tutorial (LM)\n",
        "\n",
        "\n"
      ]
    },
    {
      "cell_type": "code",
      "metadata": {
        "id": "vgLL6UcvLchJ",
        "colab_type": "code",
        "colab": {}
      },
      "source": [
        "# Importing all necessary things that needed to be imported as needed from CDE and LM\n",
        "import pandas as pd\n",
        "import matplotlib.pyplot as plt\n",
        "import seaborn as sns\n",
        "import numpy as np\n",
        "from scipy.stats import norm\n",
        "from sklearn.preprocessing import StandardScaler\n",
        "from scipy.stats import skew\n",
        "from scipy.stats.stats import pearsonr\n",
        "from scipy import stats\n",
        "import matplotlib\n",
        "import warnings\n",
        "warnings.filterwarnings('ignore')\n",
        "import xgboost as xgb\n",
        "%matplotlib inline\n",
        "from sklearn.tree import DecisionTreeRegressor\n"
      ],
      "execution_count": 0,
      "outputs": []
    },
    {
      "cell_type": "code",
      "metadata": {
        "id": "yRp1FaxyWDyd",
        "colab_type": "code",
        "colab": {}
      },
      "source": [
        "# Set the files being read to some variables\n",
        "train = pd.read_csv('/content/drive/My Drive/train.csv')\n",
        "test = pd.read_csv('/content/drive/My Drive/test.csv')"
      ],
      "execution_count": 0,
      "outputs": []
    },
    {
      "cell_type": "markdown",
      "metadata": {
        "id": "sd2Hh-gu2KYX",
        "colab_type": "text"
      },
      "source": [
        "**PART 1: COMPREHENSIVE DATA ANALYSIS**\n",
        "\n",
        "This code comes largely from the CDE model, and also contains a little bit of my code to remove variables and test to make sure the train and test have a similar list of variables\n"
      ]
    },
    {
      "cell_type": "code",
      "metadata": {
        "id": "T5rzF1KrXZYc",
        "colab_type": "code",
        "outputId": "9c354027-82a0-4674-baa9-baaffa24469b",
        "colab": {
          "base_uri": "https://localhost:8080/",
          "height": 323
        }
      },
      "source": [
        "# Print the columns of each. They should be the same.\n",
        "train.columns\n",
        "test.columns"
      ],
      "execution_count": 0,
      "outputs": [
        {
          "output_type": "execute_result",
          "data": {
            "text/plain": [
              "Index(['Id', 'MSSubClass', 'MSZoning', 'LotFrontage', 'LotArea', 'Street',\n",
              "       'Alley', 'LotShape', 'LandContour', 'Utilities', 'LotConfig',\n",
              "       'LandSlope', 'Neighborhood', 'Condition1', 'Condition2', 'BldgType',\n",
              "       'HouseStyle', 'OverallQual', 'OverallCond', 'YearBuilt', 'YearRemodAdd',\n",
              "       'RoofStyle', 'RoofMatl', 'Exterior1st', 'Exterior2nd', 'MasVnrType',\n",
              "       'MasVnrArea', 'ExterQual', 'ExterCond', 'Foundation', 'BsmtQual',\n",
              "       'BsmtCond', 'BsmtExposure', 'BsmtFinType1', 'BsmtFinSF1',\n",
              "       'BsmtFinType2', 'BsmtFinSF2', 'BsmtUnfSF', 'TotalBsmtSF', 'Heating',\n",
              "       'HeatingQC', 'CentralAir', 'Electrical', '1stFlrSF', '2ndFlrSF',\n",
              "       'LowQualFinSF', 'GrLivArea', 'BsmtFullBath', 'BsmtHalfBath', 'FullBath',\n",
              "       'HalfBath', 'BedroomAbvGr', 'KitchenAbvGr', 'KitchenQual',\n",
              "       'TotRmsAbvGrd', 'Functional', 'Fireplaces', 'FireplaceQu', 'GarageType',\n",
              "       'GarageYrBlt', 'GarageFinish', 'GarageCars', 'GarageArea', 'GarageQual',\n",
              "       'GarageCond', 'PavedDrive', 'WoodDeckSF', 'OpenPorchSF',\n",
              "       'EnclosedPorch', '3SsnPorch', 'ScreenPorch', 'PoolArea', 'PoolQC',\n",
              "       'Fence', 'MiscFeature', 'MiscVal', 'MoSold', 'YrSold', 'SaleType',\n",
              "       'SaleCondition'],\n",
              "      dtype='object')"
            ]
          },
          "metadata": {
            "tags": []
          },
          "execution_count": 30
        }
      ]
    },
    {
      "cell_type": "code",
      "metadata": {
        "id": "gJBHTHdOcuTX",
        "colab_type": "code",
        "outputId": "5e7ed61a-a3bb-42ac-9afc-be3ceab18a27",
        "colab": {
          "base_uri": "https://localhost:8080/",
          "height": 608
        }
      },
      "source": [
        "\"\"\"\n",
        "- CDE\n",
        "- Correlation matrix, showing correlations between the various variables\n",
        "- Should Largely be looking at the bottom row and right-most column, the one tagged for sale price\n",
        "- From this at first glance, can draw various conclusions:\n",
        "    - Garage Cars, Garage area, OverallQual, GrLivArea, seem to be strongest variables\n",
        "    - Garage Cars and area are also strongly correlated to each other, similarly with TotalBsmtSF and 1stFirSF\n",
        "    - Other conclusions include that stuff like OverallCond, BsmtFinSF2 is not as relevant as other variables.\n",
        "\n",
        "\"\"\"\n",
        "corrmat = train.corr()\n",
        "f, ax = plt.subplots(figsize=(12, 9))\n",
        "sns.heatmap(corrmat, vmax=.8, square=True);"
      ],
      "execution_count": 0,
      "outputs": [
        {
          "output_type": "display_data",
          "data": {
            "image/png": "[encoded data removed]",
            "text/plain": [
              "<Figure size 864x648 with 2 Axes>"
            ]
          },
          "metadata": {
            "tags": []
          }
        }
      ]
    },
    {
      "cell_type": "code",
      "metadata": {
        "id": "CIcbbeuP_WrL",
        "colab_type": "code",
        "outputId": "34237484-f47c-4502-af73-3231d983993a",
        "colab": {
          "base_uri": "https://localhost:8080/",
          "height": 669
        }
      },
      "source": [
        "\"\"\"\n",
        "- CDE\n",
        "- This bit of code from the comprehensive data exploration analyses the missing features portions of the house prices which are missing\n",
        "- According to the tutorial, we should remove values higher than 15% (0.15), which will be done in a further bit of code\n",
        "- Also according to the tutorial, we should also drop the GarageX and the BsmtX variables, since we already have the important variables from them\n",
        "- Also dropping the VasVnrX variables\n",
        "\n",
        "Does so via calculating the number of null values, calculating the average and then percentage of it that is null\n",
        "\"\"\"\n",
        "total = train.isnull().sum().sort_values(ascending=False)\n",
        "percent = (train.isnull().sum()/train.isnull().count()).sort_values(ascending=False)\n",
        "missing_data = pd.concat([total, percent], axis=1, keys=['Total', 'Percent'])\n",
        "missing_data.head(20)"
      ],
      "execution_count": 0,
      "outputs": [
        {
          "output_type": "execute_result",
          "data": {
            "text/html": [
              "<div>\n",
              "<style scoped>\n",
              "    .dataframe tbody tr th:only-of-type {\n",
              "        vertical-align: middle;\n",
              "    }\n",
              "\n",
              "    .dataframe tbody tr th {\n",
              "        vertical-align: top;\n",
              "    }\n",
              "\n",
              "    .dataframe thead th {\n",
              "        text-align: right;\n",
              "    }\n",
              "</style>\n",
              "<table border=\"1\" class=\"dataframe\">\n",
              "  <thead>\n",
              "    <tr style=\"text-align: right;\">\n",
              "      <th></th>\n",
              "      <th>Total</th>\n",
              "      <th>Percent</th>\n",
              "    </tr>\n",
              "  </thead>\n",
              "  <tbody>\n",
              "    <tr>\n",
              "      <th>PoolQC</th>\n",
              "      <td>1453</td>\n",
              "      <td>0.995205</td>\n",
              "    </tr>\n",
              "    <tr>\n",
              "      <th>MiscFeature</th>\n",
              "      <td>1406</td>\n",
              "      <td>0.963014</td>\n",
              "    </tr>\n",
              "    <tr>\n",
              "      <th>Alley</th>\n",
              "      <td>1369</td>\n",
              "      <td>0.937671</td>\n",
              "    </tr>\n",
              "    <tr>\n",
              "      <th>Fence</th>\n",
              "      <td>1179</td>\n",
              "      <td>0.807534</td>\n",
              "    </tr>\n",
              "    <tr>\n",
              "      <th>FireplaceQu</th>\n",
              "      <td>690</td>\n",
              "      <td>0.472603</td>\n",
              "    </tr>\n",
              "    <tr>\n",
              "      <th>LotFrontage</th>\n",
              "      <td>259</td>\n",
              "      <td>0.177397</td>\n",
              "    </tr>\n",
              "    <tr>\n",
              "      <th>GarageCond</th>\n",
              "      <td>81</td>\n",
              "      <td>0.055479</td>\n",
              "    </tr>\n",
              "    <tr>\n",
              "      <th>GarageType</th>\n",
              "      <td>81</td>\n",
              "      <td>0.055479</td>\n",
              "    </tr>\n",
              "    <tr>\n",
              "      <th>GarageYrBlt</th>\n",
              "      <td>81</td>\n",
              "      <td>0.055479</td>\n",
              "    </tr>\n",
              "    <tr>\n",
              "      <th>GarageFinish</th>\n",
              "      <td>81</td>\n",
              "      <td>0.055479</td>\n",
              "    </tr>\n",
              "    <tr>\n",
              "      <th>GarageQual</th>\n",
              "      <td>81</td>\n",
              "      <td>0.055479</td>\n",
              "    </tr>\n",
              "    <tr>\n",
              "      <th>BsmtExposure</th>\n",
              "      <td>38</td>\n",
              "      <td>0.026027</td>\n",
              "    </tr>\n",
              "    <tr>\n",
              "      <th>BsmtFinType2</th>\n",
              "      <td>38</td>\n",
              "      <td>0.026027</td>\n",
              "    </tr>\n",
              "    <tr>\n",
              "      <th>BsmtFinType1</th>\n",
              "      <td>37</td>\n",
              "      <td>0.025342</td>\n",
              "    </tr>\n",
              "    <tr>\n",
              "      <th>BsmtCond</th>\n",
              "      <td>37</td>\n",
              "      <td>0.025342</td>\n",
              "    </tr>\n",
              "    <tr>\n",
              "      <th>BsmtQual</th>\n",
              "      <td>37</td>\n",
              "      <td>0.025342</td>\n",
              "    </tr>\n",
              "    <tr>\n",
              "      <th>MasVnrArea</th>\n",
              "      <td>8</td>\n",
              "      <td>0.005479</td>\n",
              "    </tr>\n",
              "    <tr>\n",
              "      <th>MasVnrType</th>\n",
              "      <td>8</td>\n",
              "      <td>0.005479</td>\n",
              "    </tr>\n",
              "    <tr>\n",
              "      <th>Electrical</th>\n",
              "      <td>1</td>\n",
              "      <td>0.000685</td>\n",
              "    </tr>\n",
              "    <tr>\n",
              "      <th>Utilities</th>\n",
              "      <td>0</td>\n",
              "      <td>0.000000</td>\n",
              "    </tr>\n",
              "  </tbody>\n",
              "</table>\n",
              "</div>"
            ],
            "text/plain": [
              "              Total   Percent\n",
              "PoolQC         1453  0.995205\n",
              "MiscFeature    1406  0.963014\n",
              "Alley          1369  0.937671\n",
              "Fence          1179  0.807534\n",
              "FireplaceQu     690  0.472603\n",
              "LotFrontage     259  0.177397\n",
              "GarageCond       81  0.055479\n",
              "GarageType       81  0.055479\n",
              "GarageYrBlt      81  0.055479\n",
              "GarageFinish     81  0.055479\n",
              "GarageQual       81  0.055479\n",
              "BsmtExposure     38  0.026027\n",
              "BsmtFinType2     38  0.026027\n",
              "BsmtFinType1     37  0.025342\n",
              "BsmtCond         37  0.025342\n",
              "BsmtQual         37  0.025342\n",
              "MasVnrArea        8  0.005479\n",
              "MasVnrType        8  0.005479\n",
              "Electrical        1  0.000685\n",
              "Utilities         0  0.000000"
            ]
          },
          "metadata": {
            "tags": []
          },
          "execution_count": 32
        }
      ]
    },
    {
      "cell_type": "code",
      "metadata": {
        "id": "bnsx7nmQbDxH",
        "colab_type": "code",
        "outputId": "03875bf9-430c-4cda-ddc3-29763a3c1021",
        "colab": {
          "base_uri": "https://localhost:8080/",
          "height": 187
        }
      },
      "source": [
        "# Manually dropping the missing data here\n",
        "\n",
        "# CDE variables that are reccomended to be dropped - 18\n",
        "train = train.drop(columns='LotFrontage')\n",
        "train = train.drop(columns='PoolQC')\n",
        "train = train.drop(columns='MiscFeature')\n",
        "train = train.drop(columns='Alley')\n",
        "train = train.drop(columns='Fence')\n",
        "train = train.drop(columns='FireplaceQu')\n",
        "train = train.drop(columns='GarageCond')\n",
        "train = train.drop(columns='GarageType')\n",
        "train = train.drop(columns='GarageYrBlt')\n",
        "train = train.drop(columns='GarageFinish')\n",
        "train = train.drop(columns='GarageQual')\n",
        "train = train.drop(columns='BsmtExposure')\n",
        "train = train.drop(columns='BsmtFinType2')\n",
        "train = train.drop(columns='BsmtFinType1')\n",
        "train = train.drop(columns='BsmtCond')\n",
        "train = train.drop(columns='BsmtQual')\n",
        "train = train.drop(columns='MasVnrArea')\n",
        "train = train.drop(columns='MasVnrType')\n",
        "\n",
        "# Additional Variables being dropped by our own research. - 8\n",
        "train = train.drop(columns='EnclosedPorch')\n",
        "train = train.drop(columns='3SsnPorch')\n",
        "train = train.drop(columns='ScreenPorch')\n",
        "train = train.drop(columns='PoolArea') \n",
        "train = train.drop(columns='KitchenAbvGr')\n",
        "train = train.drop(columns='LowQualFinSF')\n",
        "train = train.drop(columns='BsmtFinSF2')\n",
        "train = train.drop(columns='OverallCond')\n",
        "\n",
        "\n",
        "# Dropping A group of variables here: - 8\n",
        "train = train.drop(columns='MSSubClass')\n",
        "train = train.drop(columns='LandSlope')\n",
        "train = train.drop(columns='1stFlrSF')\n",
        "train = train.drop(columns='TotRmsAbvGrd')\n",
        "train = train.drop(columns='WoodDeckSF')\n",
        "train = train.drop(columns='MoSold')\n",
        "train = train.drop(columns='YrSold')\n",
        "\n",
        "# Dropping group B variables here: - needs to be checked\n",
        "train = train.drop(columns='HalfBath') # Checked - can be safely removed\n",
        "\n",
        "train = train.drop(columns='GarageArea')\n",
        "train = train.drop(columns='2ndFlrSF')\n",
        "train = train.drop(columns='BsmtHalfBath')\n",
        "train = train.drop(columns='MiscVal')\n",
        "\n",
        "\"\"\"\n",
        "# Dropping group C variables - these are the ones taken from here: https://www.kaggle.com/jimthompson/ensemble-model-stacked-model-example :\n",
        "\n",
        "train = train.drop(columns='Street')\n",
        "train = train.drop(columns='Utilities')\n",
        "train = train.drop(columns='LotConfig')\n",
        "train = train.drop(columns='Condition2')\n",
        "train = train.drop(columns='RoofMatl')\n",
        "train = train.drop(columns='ExterCond')\n",
        "train = train.drop(columns='Heating')\n",
        "train = train.drop(columns='SaleType')\n",
        "\"\"\"\n",
        "\n",
        "train.columns\n"
      ],
      "execution_count": 0,
      "outputs": [
        {
          "output_type": "execute_result",
          "data": {
            "text/plain": [
              "Index(['Id', 'MSZoning', 'LotArea', 'Street', 'LotShape', 'LandContour',\n",
              "       'Utilities', 'LotConfig', 'Neighborhood', 'Condition1', 'Condition2',\n",
              "       'BldgType', 'HouseStyle', 'OverallQual', 'YearBuilt', 'YearRemodAdd',\n",
              "       'RoofStyle', 'RoofMatl', 'Exterior1st', 'Exterior2nd', 'ExterQual',\n",
              "       'ExterCond', 'Foundation', 'BsmtFinSF1', 'BsmtUnfSF', 'TotalBsmtSF',\n",
              "       'Heating', 'HeatingQC', 'CentralAir', 'Electrical', 'GrLivArea',\n",
              "       'BsmtFullBath', 'FullBath', 'BedroomAbvGr', 'KitchenQual', 'Functional',\n",
              "       'Fireplaces', 'GarageCars', 'PavedDrive', 'OpenPorchSF', 'SaleType',\n",
              "       'SaleCondition', 'SalePrice'],\n",
              "      dtype='object')"
            ]
          },
          "metadata": {
            "tags": []
          },
          "execution_count": 33
        }
      ]
    },
    {
      "cell_type": "code",
      "metadata": {
        "id": "6VGdZIpMj38O",
        "colab_type": "code",
        "outputId": "07a6301f-8993-4e31-8369-fcce66018567",
        "colab": {
          "base_uri": "https://localhost:8080/",
          "height": 187
        }
      },
      "source": [
        "# Dropping appropiate variables from test as well\n",
        "# CDE variables that are reccomended to be dropped\n",
        "test = test.drop(columns='LotFrontage')\n",
        "test = test.drop(columns='PoolQC')\n",
        "test = test.drop(columns='MiscFeature')\n",
        "test = test.drop(columns='Alley')\n",
        "test = test.drop(columns='Fence')\n",
        "test = test.drop(columns='FireplaceQu')\n",
        "test = test.drop(columns='GarageCond')\n",
        "test = test.drop(columns='GarageType')\n",
        "test = test.drop(columns='GarageYrBlt')\n",
        "test = test.drop(columns='GarageFinish')\n",
        "test = test.drop(columns='GarageQual')\n",
        "test = test.drop(columns='BsmtExposure')\n",
        "test = test.drop(columns='BsmtFinType2')\n",
        "test = test.drop(columns='BsmtFinType1')\n",
        "test = test.drop(columns='BsmtCond')\n",
        "test = test.drop(columns='BsmtQual')\n",
        "test = test.drop(columns='MasVnrArea')\n",
        "test = test.drop(columns='MasVnrType')\n",
        "\n",
        "# Additional Variables being dropped.\n",
        "test = test.drop(columns='EnclosedPorch')\n",
        "test = test.drop(columns='3SsnPorch')\n",
        "test = test.drop(columns='ScreenPorch')\n",
        "test = test.drop(columns='PoolArea') \n",
        "test = test.drop(columns='KitchenAbvGr')\n",
        "test = test.drop(columns='LowQualFinSF')\n",
        "test = test.drop(columns='BsmtFinSF2')\n",
        "test = test.drop(columns='OverallCond')\n",
        "\n",
        "# Group A variables being dropped\n",
        "test = test.drop(columns='MSSubClass')\n",
        "test = test.drop(columns='LandSlope')\n",
        "test = test.drop(columns='1stFlrSF')\n",
        "test = test.drop(columns='TotRmsAbvGrd')\n",
        "test = test.drop(columns='WoodDeckSF')\n",
        "test = test.drop(columns='MoSold')\n",
        "test = test.drop(columns='YrSold')\n",
        "\n",
        "# Dropping group B variables here: - Need to check\n",
        "test = test.drop(columns='HalfBath') # Checked - can be safely removed\n",
        "\n",
        "test = test.drop(columns='GarageArea')\n",
        "test = test.drop(columns='2ndFlrSF')\n",
        "test = test.drop(columns='BsmtHalfBath')\n",
        "test = test.drop(columns='MiscVal')\n",
        "\"\"\"\n",
        "# Dropping group C variables here: - Need to check, overall Decrease to score\n",
        "test = test.drop(columns='Street')\n",
        "test = test.drop(columns='Utilities')\n",
        "test = test.drop(columns='LotConfig')\n",
        "test = test.drop(columns='Condition2')\n",
        "test = test.drop(columns='RoofMatl')\n",
        "test = test.drop(columns='ExterCond')\n",
        "test = test.drop(columns='Heating')\n",
        "test = test.drop(columns='SaleType')\n",
        "\"\"\"\n",
        "test.columns\n"
      ],
      "execution_count": 0,
      "outputs": [
        {
          "output_type": "execute_result",
          "data": {
            "text/plain": [
              "Index(['Id', 'MSZoning', 'LotArea', 'Street', 'LotShape', 'LandContour',\n",
              "       'Utilities', 'LotConfig', 'Neighborhood', 'Condition1', 'Condition2',\n",
              "       'BldgType', 'HouseStyle', 'OverallQual', 'YearBuilt', 'YearRemodAdd',\n",
              "       'RoofStyle', 'RoofMatl', 'Exterior1st', 'Exterior2nd', 'ExterQual',\n",
              "       'ExterCond', 'Foundation', 'BsmtFinSF1', 'BsmtUnfSF', 'TotalBsmtSF',\n",
              "       'Heating', 'HeatingQC', 'CentralAir', 'Electrical', 'GrLivArea',\n",
              "       'BsmtFullBath', 'FullBath', 'BedroomAbvGr', 'KitchenQual', 'Functional',\n",
              "       'Fireplaces', 'GarageCars', 'PavedDrive', 'OpenPorchSF', 'SaleType',\n",
              "       'SaleCondition'],\n",
              "      dtype='object')"
            ]
          },
          "metadata": {
            "tags": []
          },
          "execution_count": 34
        }
      ]
    },
    {
      "cell_type": "code",
      "metadata": {
        "id": "-9WUO7JEpXI3",
        "colab_type": "code",
        "outputId": "5df35466-140c-45e5-97bb-00b87c16c570",
        "colab": {
          "base_uri": "https://localhost:8080/",
          "height": 714
        }
      },
      "source": [
        "# Tests to see if any variables are missing\n",
        "missing_list = []\n",
        "missing_variables = False\n",
        "\n",
        "a = 0\n",
        "i = 0\n",
        "j = 0\n",
        "\n",
        "# Iterates through both columns, and checks them for any potential missing values\n",
        "while(a < len(train.columns)-2):\n",
        "  a += 1\n",
        "  i += 1\n",
        "  if(train.columns[i] == test.columns[i]):\n",
        "    print(train.columns[i],i,test.columns[i])\n",
        "  else:\n",
        "    missing_variables = True\n",
        "    missing_list.append(train.columns[i])\n",
        "\n",
        "if(missing_variables):\n",
        "  print(\"There is a missing variable at:\\n\",missing_list)\n",
        "\n"
      ],
      "execution_count": 0,
      "outputs": [
        {
          "output_type": "stream",
          "text": [
            "MSZoning 1 MSZoning\n",
            "LotArea 2 LotArea\n",
            "Street 3 Street\n",
            "LotShape 4 LotShape\n",
            "LandContour 5 LandContour\n",
            "Utilities 6 Utilities\n",
            "LotConfig 7 LotConfig\n",
            "Neighborhood 8 Neighborhood\n",
            "Condition1 9 Condition1\n",
            "Condition2 10 Condition2\n",
            "BldgType 11 BldgType\n",
            "HouseStyle 12 HouseStyle\n",
            "OverallQual 13 OverallQual\n",
            "YearBuilt 14 YearBuilt\n",
            "YearRemodAdd 15 YearRemodAdd\n",
            "RoofStyle 16 RoofStyle\n",
            "RoofMatl 17 RoofMatl\n",
            "Exterior1st 18 Exterior1st\n",
            "Exterior2nd 19 Exterior2nd\n",
            "ExterQual 20 ExterQual\n",
            "ExterCond 21 ExterCond\n",
            "Foundation 22 Foundation\n",
            "BsmtFinSF1 23 BsmtFinSF1\n",
            "BsmtUnfSF 24 BsmtUnfSF\n",
            "TotalBsmtSF 25 TotalBsmtSF\n",
            "Heating 26 Heating\n",
            "HeatingQC 27 HeatingQC\n",
            "CentralAir 28 CentralAir\n",
            "Electrical 29 Electrical\n",
            "GrLivArea 30 GrLivArea\n",
            "BsmtFullBath 31 BsmtFullBath\n",
            "FullBath 32 FullBath\n",
            "BedroomAbvGr 33 BedroomAbvGr\n",
            "KitchenQual 34 KitchenQual\n",
            "Functional 35 Functional\n",
            "Fireplaces 36 Fireplaces\n",
            "GarageCars 37 GarageCars\n",
            "PavedDrive 38 PavedDrive\n",
            "OpenPorchSF 39 OpenPorchSF\n",
            "SaleType 40 SaleType\n",
            "SaleCondition 41 SaleCondition\n"
          ],
          "name": "stdout"
        }
      ]
    },
    {
      "cell_type": "markdown",
      "metadata": {
        "id": "VDnVvuveh8NK",
        "colab_type": "text"
      },
      "source": [
        "**PART 2: LINEAR MODEL AND PREDICTIONS**\n",
        "\n",
        "A good portion of this code comes from the linear model tutorial, which also then uses Lasso and XGBoost models to provide a prediction.\n",
        "\n",
        "I have attempted to also introduce a base Decision Tree Regressor model, to see if we could then use an ensemble model later, but for now that hasn't turned out much, as you may be able to see the entire next block of code being commented out.\n"
      ]
    },
    {
      "cell_type": "code",
      "metadata": {
        "id": "MsUMb1RvwNmh",
        "colab_type": "code",
        "outputId": "ca163ddd-ae8b-49ce-f470-20ea44e080aa",
        "colab": {
          "base_uri": "https://localhost:8080/",
          "height": 54
        }
      },
      "source": [
        "\"\"\"\n",
        "# With the machine learning course now back up and running, I'm trying to see if we can implement a base model, \n",
        "which may then be used for ensembling later with the lasso and XGboost model later\n",
        "\n",
        "# Initial code\n",
        "train_data = train.dropna(axis=0)\n",
        "\n",
        "test_data = test.dropna(axis=0)\n",
        "\n",
        "#print(train_data)\n",
        "\n",
        "# Code to try and fix an initial problem\n",
        "train_data['label'] = 'train'\n",
        "test_data['label'] = 'test'\n",
        "data = pd.concat((train_data,test_data))\n",
        "#print(data)\n",
        "\n",
        "data = pd.get_dummies(data,columns=data.columns[0:42])\n",
        "#print(data.columns)\n",
        "\n",
        "train_data = data[data['label'] == 'train']\n",
        "print(train_data)\n",
        "\n",
        "test_data = data[data['label'] == 'test']\n",
        "print(train_data.columns)\n",
        "\n",
        "train_data = train_data.drop('label')\n",
        "\n",
        "test_data = test_data.drop('label')\n",
        "\n",
        "# Initial code\n",
        "#train_data = pd.get_dummies(train_data)\n",
        "#print(train_data)\n",
        "#test_data = pd.get_dummies(test_data)\n",
        "prediction_target = train.SalePrice\n",
        "print(prediction_target)\n",
        "prediction_target = prediction_target.drop(0)\n",
        "\n",
        "X = train_data[0:1460]\n",
        "X.shape\n",
        "\n",
        "print(X)\n",
        "# Initial code\n",
        "model_regressor = DecisionTreeRegressor(random_state=1)\n",
        "model_regressor.fit(X,prediction_target)\n",
        "\n",
        "# An error comes up here with initial code\n",
        "predictionary = model_regressor.predict(test_data)\n",
        "\"\"\"\n",
        "\n"
      ],
      "execution_count": 0,
      "outputs": [
        {
          "output_type": "execute_result",
          "data": {
            "text/plain": [
              "\"\\n# With the machine learning course now back up and running, I'm trying to see if we can implement a base model, \\nwhich may then be used for ensembling later with the lasso and XGboost model later\\n\\n# Initial code\\ntrain_data = train.dropna(axis=0)\\n\\ntest_data = test.dropna(axis=0)\\n\\n#print(train_data)\\n\\n# Code to try and fix an initial problem\\ntrain_data['label'] = 'train'\\ntest_data['label'] = 'test'\\ndata = pd.concat((train_data,test_data))\\n#print(data)\\n\\ndata = pd.get_dummies(data,columns=data.columns[0:42])\\n#print(data.columns)\\n\\ntrain_data = data[data['label'] == 'train']\\nprint(train_data)\\n\\ntest_data = data[data['label'] == 'test']\\nprint(train_data.columns)\\n\\ntrain_data = train_data.drop('label')\\n\\ntest_data = test_data.drop('label')\\n\\n# Initial code\\n#train_data = pd.get_dummies(train_data)\\n#print(train_data)\\n#test_data = pd.get_dummies(test_data)\\nprediction_target = train.SalePrice\\nprint(prediction_target)\\nprediction_target = prediction_target.drop(0)\\n\\nX = train_data[0:1460]\\nX.shape\\n\\nprint(X)\\n# Initial code\\nmodel_regressor = DecisionTreeRegressor(random_state=1)\\nmodel_regressor.fit(X,prediction_target)\\n\\n# An error comes up here with initial code\\npredictionary = model_regressor.predict(test_data)\\n\""
            ]
          },
          "metadata": {
            "tags": []
          },
          "execution_count": 36
        }
      ]
    },
    {
      "cell_type": "code",
      "metadata": {
        "id": "38DkCFGFiehP",
        "colab_type": "code",
        "outputId": "0724bbfa-b9b4-4876-f5cc-eba30e7074b5",
        "colab": {
          "base_uri": "https://localhost:8080/",
          "height": 255
        }
      },
      "source": [
        "# Gather up all the data together in one variable - LM\n",
        "all_data = pd.concat((train.loc[:,'MSZoning':'SaleCondition'],\n",
        "                      test.loc[:,'MSZoning':'SaleCondition']))\n",
        "\n",
        "print(all_data)"
      ],
      "execution_count": 0,
      "outputs": [
        {
          "output_type": "stream",
          "text": [
            "     MSZoning  LotArea Street  ... OpenPorchSF SaleType SaleCondition\n",
            "0          RL     8450   Pave  ...          61       WD        Normal\n",
            "1          RL     9600   Pave  ...           0       WD        Normal\n",
            "2          RL    11250   Pave  ...          42       WD        Normal\n",
            "3          RL     9550   Pave  ...          35       WD       Abnorml\n",
            "4          RL    14260   Pave  ...          84       WD        Normal\n",
            "...       ...      ...    ...  ...         ...      ...           ...\n",
            "1454       RM     1936   Pave  ...           0       WD        Normal\n",
            "1455       RM     1894   Pave  ...          24       WD       Abnorml\n",
            "1456       RL    20000   Pave  ...           0       WD       Abnorml\n",
            "1457       RL    10441   Pave  ...          32       WD        Normal\n",
            "1458       RL     9627   Pave  ...          48       WD        Normal\n",
            "\n",
            "[2919 rows x 41 columns]\n"
          ],
          "name": "stdout"
        }
      ]
    },
    {
      "cell_type": "code",
      "metadata": {
        "id": "-vwLRXMahTzx",
        "colab_type": "code",
        "outputId": "84afbd38-3872-4af5-e359-235b9e3ae617",
        "colab": {
          "base_uri": "https://localhost:8080/",
          "height": 441
        }
      },
      "source": [
        "# Shows some histograms showing skewness and stuff of the sale price - LM\n",
        "plt.rcParams['figure.figsize'] = (12.0, 6.0)\n",
        "prices = pd.DataFrame({\"price\":train[\"SalePrice\"], \"log(price + 1)\":np.log1p(train[\"SalePrice\"])})\n",
        "prices.hist()"
      ],
      "execution_count": 0,
      "outputs": [
        {
          "output_type": "execute_result",
          "data": {
            "text/plain": [
              "array([[<matplotlib.axes._subplots.AxesSubplot object at 0x7f41b069d710>,\n",
              "        <matplotlib.axes._subplots.AxesSubplot object at 0x7f41b6092dd8>]],\n",
              "      dtype=object)"
            ]
          },
          "metadata": {
            "tags": []
          },
          "execution_count": 38
        },
        {
          "output_type": "display_data",
          "data": {
            "image/png": "[encoded data removed]",
            "text/plain": [
              "<Figure size 864x432 with 2 Axes>"
            ]
          },
          "metadata": {
            "tags": []
          }
        }
      ]
    },
    {
      "cell_type": "code",
      "metadata": {
        "id": "0tA6vzuT5--7",
        "colab_type": "code",
        "colab": {}
      },
      "source": [
        "# Does a bunch of log transformations to normalise the variables - LM\n",
        "# LM - \"log transform the target (Saleprice):\"\n",
        "train[\"SalePrice\"] = np.log1p(train[\"SalePrice\"])\n",
        "\n",
        "# LM - \"log transform skewed numeric features:\"\n",
        "numeric_feats = all_data.dtypes[all_data.dtypes != \"object\"].index\n",
        "\n",
        "skewed_feats = train[numeric_feats].apply(lambda x: skew(x.dropna())) #compute skewness\n",
        "skewed_feats = skewed_feats[skewed_feats > 0.75]\n",
        "skewed_feats = skewed_feats.index\n",
        "\n",
        "all_data[skewed_feats] = np.log1p(all_data[skewed_feats])"
      ],
      "execution_count": 0,
      "outputs": []
    },
    {
      "cell_type": "code",
      "metadata": {
        "id": "D3mwVaKL6Msk",
        "colab_type": "code",
        "colab": {}
      },
      "source": [
        "# Splits and assign dummy variables / data to Catergorical variables\n",
        "all_data = pd.get_dummies(all_data)"
      ],
      "execution_count": 0,
      "outputs": []
    },
    {
      "cell_type": "code",
      "metadata": {
        "id": "kHSdkQJ16PR7",
        "colab_type": "code",
        "colab": {}
      },
      "source": [
        "# Replacing null data and/or NA's with the mean of the data to be able to use it with models - LM\n",
        "all_data = all_data.fillna(all_data.mean())"
      ],
      "execution_count": 0,
      "outputs": []
    },
    {
      "cell_type": "code",
      "metadata": {
        "id": "BYgtxaY06RLg",
        "colab_type": "code",
        "colab": {}
      },
      "source": [
        "# LM - \"Creating matrices for sklearn:\"\n",
        "X_train = all_data[:train.shape[0]]\n",
        "X_test = all_data[train.shape[0]:]\n",
        "y = train.SalePrice"
      ],
      "execution_count": 0,
      "outputs": []
    },
    {
      "cell_type": "code",
      "metadata": {
        "id": "yO9lOoAt6TWM",
        "colab_type": "code",
        "colab": {}
      },
      "source": [
        "# Importing Lasso Models for use in the model - LM\n",
        "from sklearn.linear_model import ElasticNet, LassoCV, LassoLarsCV\n",
        "from sklearn.model_selection import cross_val_score\n",
        "\n",
        "# Creates a function to determine rsme for cross validation techniques - LM\n",
        "def rmse_cv(model):\n",
        "    rmse= np.sqrt(-cross_val_score(model, X_train, y, scoring=\"neg_mean_squared_error\", cv = 5))\n",
        "    return(rmse)"
      ],
      "execution_count": 0,
      "outputs": []
    },
    {
      "cell_type": "code",
      "metadata": {
        "id": "KQLX9_676zaQ",
        "colab_type": "code",
        "colab": {}
      },
      "source": [
        "model_lasso = LassoCV(alphas = [1, 0.1, 0.001, 0.0005]).fit(X_train, y)"
      ],
      "execution_count": 0,
      "outputs": []
    },
    {
      "cell_type": "code",
      "metadata": {
        "id": "_wa2brxt6ucN",
        "colab_type": "code",
        "colab": {}
      },
      "source": [
        "# LM - lasso is deciding some of its own variables to remove.\n",
        "coef = pd.Series(model_lasso.coef_, index = X_train.columns)"
      ],
      "execution_count": 0,
      "outputs": []
    },
    {
      "cell_type": "code",
      "metadata": {
        "id": "YESo8U2Y7ulY",
        "colab_type": "code",
        "colab": {}
      },
      "source": [
        "# LM\n",
        "dtrain = xgb.DMatrix(X_train, label = y)\n",
        "dtest = xgb.DMatrix(X_test)\n",
        "\n",
        "params = {\"max_depth\":2, \"eta\":0.1}\n",
        "model = xgb.cv(params, dtrain,  num_boost_round=500, early_stopping_rounds=100)"
      ],
      "execution_count": 0,
      "outputs": []
    },
    {
      "cell_type": "code",
      "metadata": {
        "id": "h9JoxYIg70KC",
        "colab_type": "code",
        "outputId": "48717312-9172-4bf2-d007-889209d839b8",
        "colab": {
          "base_uri": "https://localhost:8080/",
          "height": 153
        }
      },
      "source": [
        "# Use an XGB boost - LM\n",
        "model_xgb = xgb.XGBRegressor(n_estimators=360, max_depth=2, learning_rate=0.1) #the params were tuned using xgb.cv\n",
        "model_xgb.fit(X_train, y)"
      ],
      "execution_count": 0,
      "outputs": [
        {
          "output_type": "stream",
          "text": [
            "[12:46:55] WARNING: /workspace/src/objective/regression_obj.cu:152: reg:linear is now deprecated in favor of reg:squarederror.\n"
          ],
          "name": "stdout"
        },
        {
          "output_type": "execute_result",
          "data": {
            "text/plain": [
              "XGBRegressor(base_score=0.5, booster='gbtree', colsample_bylevel=1,\n",
              "             colsample_bynode=1, colsample_bytree=1, gamma=0,\n",
              "             importance_type='gain', learning_rate=0.1, max_delta_step=0,\n",
              "             max_depth=2, min_child_weight=1, missing=None, n_estimators=360,\n",
              "             n_jobs=1, nthread=None, objective='reg:linear', random_state=0,\n",
              "             reg_alpha=0, reg_lambda=1, scale_pos_weight=1, seed=None,\n",
              "             silent=None, subsample=1, verbosity=1)"
            ]
          },
          "metadata": {
            "tags": []
          },
          "execution_count": 47
        }
      ]
    },
    {
      "cell_type": "code",
      "metadata": {
        "id": "IoWl4yFZ714S",
        "colab_type": "code",
        "colab": {}
      },
      "source": [
        "# LM\n",
        "xgb_preds = np.expm1(model_xgb.predict(X_test))\n",
        "lasso_preds = np.expm1(model_lasso.predict(X_test))"
      ],
      "execution_count": 0,
      "outputs": []
    },
    {
      "cell_type": "code",
      "metadata": {
        "id": "DRQ897vY75tQ",
        "colab_type": "code",
        "colab": {}
      },
      "source": [
        "# LM\n",
        "predictions = pd.DataFrame({\"xgb\":xgb_preds, \"lasso\":lasso_preds})\n"
      ],
      "execution_count": 0,
      "outputs": []
    },
    {
      "cell_type": "code",
      "metadata": {
        "id": "6-LvFGfY78Dc",
        "colab_type": "code",
        "colab": {}
      },
      "source": [
        "# LM\n",
        "preds = 0.7*lasso_preds + 0.3*xgb_preds"
      ],
      "execution_count": 0,
      "outputs": []
    },
    {
      "cell_type": "code",
      "metadata": {
        "id": "SNIxfK_v7-TY",
        "colab_type": "code",
        "colab": {}
      },
      "source": [
        "# Prints the solution to a .csv file -LM\n",
        "solution = pd.DataFrame({\"id\":test.Id, \"SalePrice\":preds})\n",
        "solution.to_csv(\"sol_teamsix_test.csv\", index = False)"
      ],
      "execution_count": 0,
      "outputs": []
    }
  ]
}